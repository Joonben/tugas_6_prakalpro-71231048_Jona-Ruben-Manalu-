{
 "cells": [
  {
   "cell_type": "code",
   "execution_count": 4,
   "id": "a1bcb614",
   "metadata": {},
   "outputs": [
    {
     "name": "stdout",
     "output_type": "stream",
     "text": [
      "Masukan Bilangan = 12\n",
      "11 ialah bilangan prima terdekat dari 12\n"
     ]
    }
   ],
   "source": [
    "#latihan 6.1\n",
    "def bilprima(n):\n",
    "    bilprima = False\n",
    "    a = 0\n",
    "    for i in range(1, n + 1):\n",
    "        if n % i == 0:\n",
    "            a += 1\n",
    "        if a > 2 :\n",
    "            bilprima = False\n",
    "            break\n",
    "        else :\n",
    "            bilprima = True \n",
    "    return bilprima\n",
    "\n",
    "N = int(input(\"Masukan Bilangan = \"))\n",
    "for i in range(N -1,0,-1):\n",
    "    if bilprima(i):\n",
    "        print(\"%d ialah bilangan prima terdekat dari %d\"%(i,N))\n",
    "        break"
   ]
  },
  {
   "cell_type": "code",
   "execution_count": 15,
   "id": "a722c53e",
   "metadata": {
    "scrolled": true
   },
   "outputs": [
    {
     "name": "stdout",
     "output_type": "stream",
     "text": [
      "Masukkan nilai n: 6\n",
      "720 6 5 4 3 2 1  \n",
      "120 5 4 3 2 1  \n",
      "24 4 3 2 1  \n",
      "6 3 2 1  \n",
      "2 2 1  \n",
      "1 1  \n"
     ]
    }
   ],
   "source": [
    "#Latihan Mandiri 6.2\n",
    "def faktor(n):\n",
    "    if n == 0:\n",
    "        return 1\n",
    "    else:\n",
    "        return n * faktor(n-1)\n",
    "\n",
    "def cetak_deret(n):\n",
    "    for i in range(n, 0, -1):\n",
    "        print(faktor(i), end=\" \")\n",
    "        for j in range(i, 0, -1):\n",
    "            print(j, end=\" \")\n",
    "        print(\" \")\n",
    "n = int(input(\"Masukkan nilai n: \"))\n",
    "cetak_deret(n)"
   ]
  },
  {
   "cell_type": "code",
   "execution_count": 17,
   "id": "629b4237",
   "metadata": {},
   "outputs": [
    {
     "name": "stdout",
     "output_type": "stream",
     "text": [
      "Masukan tinggi = 5\n",
      "Masukan lebar  = 4\n",
      "1\t2\t3\t4\t\n",
      "5\t6\t7\t8\t\n",
      "9\t10\t11\t12\t\n",
      "13\t14\t15\t16\t\n",
      "17\t18\t19\t20\t\n"
     ]
    }
   ],
   "source": [
    "#latihan Mandiri 6.3\n",
    "tinggii = int(input(\"Masukan tinggi = \"))\n",
    "lebarr = int(input (\"Masukan lebar  = \"))\n",
    "a = 0\n",
    "for y in range(tinggii):\n",
    "    for z in range(lebarr):\n",
    "        a = a + 1\n",
    "        print(f\"{a}\\t\", end=\"\")\n",
    "    print(\"\")"
   ]
  }
 ],
 "metadata": {
  "kernelspec": {
   "display_name": "Python 3 (ipykernel)",
   "language": "python",
   "name": "python3"
  },
  "language_info": {
   "codemirror_mode": {
    "name": "ipython",
    "version": 3
   },
   "file_extension": ".py",
   "mimetype": "text/x-python",
   "name": "python",
   "nbconvert_exporter": "python",
   "pygments_lexer": "ipython3",
   "version": "3.11.5"
  }
 },
 "nbformat": 4,
 "nbformat_minor": 5
}
